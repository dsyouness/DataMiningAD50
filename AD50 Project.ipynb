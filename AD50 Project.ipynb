{
 "cells": [
  {
   "cell_type": "markdown",
   "metadata": {},
   "source": [
    "# PROJET AD50 (AFC, Clustering, K-Means, Silhouette)"
   ]
  },
  {
   "cell_type": "markdown",
   "metadata": {},
   "source": [
    "### Libraries"
   ]
  },
  {
   "cell_type": "markdown",
   "metadata": {},
   "source": [
    "On va utiliser deux différents librairies pour notre projet pour appliquer toutes les analyses demandées."
   ]
  },
  {
   "cell_type": "code",
   "execution_count": 25,
   "metadata": {},
   "outputs": [],
   "source": [
    "#Librairie FactoMineR\n",
    "library(FactoMineR)\n",
    "library(factoextra)"
   ]
  },
  {
   "cell_type": "code",
   "execution_count": 4,
   "metadata": {
    "scrolled": false
   },
   "outputs": [],
   "source": [
    "#Librairie ADE4, Cluster\n",
    "library(cluster)\n",
    "library(ade4)"
   ]
  },
  {
   "cell_type": "code",
   "execution_count": 26,
   "metadata": {},
   "outputs": [],
   "source": [
    "#Libraries Plots\n",
    "library(gplots)\n",
    "library(corrplot)"
   ]
  },
  {
   "cell_type": "markdown",
   "metadata": {},
   "source": [
    "Après on importe notre jeu de données d'une enquête Budget-temps Multimédia.\n",
    "Cette enquête a été faite pour savoir le nombre de 'contact média' relatifs à presque 4433 personnes interrogées."
   ]
  },
  {
   "cell_type": "code",
   "execution_count": 7,
   "metadata": {
    "collapsed": true
   },
   "outputs": [],
   "source": [
    "bdtmp_multim = read.csv(\"~/AD50/AFC/budget_temps_multimedia.csv\", header=TRUE, row.names=1, sep=\";\")"
   ]
  },
  {
   "cell_type": "markdown",
   "metadata": {},
   "source": [
    "###### Ce tableau de contingence croise :\n",
    "Les types de contacts-média (variables) citant :\n",
    "* Radio\n",
    "* Télévision\n",
    "* Quotidien National\n",
    "* Quotidien Régional\n",
    "* Presse Magazine\n",
    "* Presse TV\n",
    "\n",
    "avec professions, sexe, âge, niveau d'éducation (individus) \n",
    "\n",
    "_Comme illustre le tableau ci dessous_:"
   ]
  },
  {
   "cell_type": "code",
   "execution_count": 8,
   "metadata": {},
   "outputs": [
    {
     "data": {
      "text/html": [
       "<table>\n",
       "<thead><tr><th></th><th scope=col>Radio</th><th scope=col>Tel.</th><th scope=col>Quot.N</th><th scope=col>Quot.R</th><th scope=col>P.Mag</th><th scope=col>P.TV</th></tr></thead>\n",
       "<tbody>\n",
       "\t<tr><th scope=row>Agriculteur</th><td>  96</td><td> 118</td><td>  2 </td><td> 71 </td><td> 50 </td><td> 17 </td></tr>\n",
       "\t<tr><th scope=row>Petit patron</th><td> 122</td><td> 136</td><td> 11 </td><td> 76 </td><td> 49 </td><td> 41 </td></tr>\n",
       "\t<tr><th scope=row>Prof. Cad. S.</th><td> 193</td><td> 184</td><td> 74 </td><td> 63 </td><td>103 </td><td> 79 </td></tr>\n",
       "\t<tr><th scope=row>Prof. Interm</th><td> 360</td><td> 365</td><td> 63 </td><td>145 </td><td>141 </td><td>184 </td></tr>\n",
       "\t<tr><th scope=row>Employé</th><td> 511</td><td> 593</td><td> 57 </td><td>217 </td><td>172 </td><td>306 </td></tr>\n",
       "\t<tr><th scope=row>Ouvrier qual</th><td> 385</td><td> 457</td><td> 42 </td><td>174 </td><td>104 </td><td>220 </td></tr>\n",
       "\t<tr><th scope=row>Ouvrier n-q</th><td> 156</td><td> 185</td><td>  8 </td><td> 69 </td><td> 42 </td><td> 85 </td></tr>\n",
       "\t<tr><th scope=row>Inactif</th><td>1474</td><td>1931</td><td>181 </td><td>852 </td><td>642 </td><td>782 </td></tr>\n",
       "\t<tr><th scope=row>Homme</th><td>1630</td><td>1900</td><td>285 </td><td>854 </td><td>621 </td><td>776 </td></tr>\n",
       "\t<tr><th scope=row>Femme</th><td>1667</td><td>2069</td><td>152 </td><td>815 </td><td>683 </td><td>938 </td></tr>\n",
       "\t<tr><th scope=row>Primaire</th><td> 908</td><td>1307</td><td> 73 </td><td>642 </td><td>360 </td><td>435 </td></tr>\n",
       "\t<tr><th scope=row>Secondaire</th><td> 869</td><td>1008</td><td>107 </td><td>408 </td><td>336 </td><td>494 </td></tr>\n",
       "\t<tr><th scope=row>Techn.prof.</th><td> 901</td><td>1035</td><td> 80 </td><td>140 </td><td>311 </td><td>504 </td></tr>\n",
       "\t<tr><th scope=row>Superieur</th><td> 619</td><td> 612</td><td>177 </td><td>209 </td><td>298 </td><td>281 </td></tr>\n",
       "\t<tr><th scope=row>15-24 ans</th><td> 660</td><td> 713</td><td> 69 </td><td>216 </td><td>234 </td><td>360 </td></tr>\n",
       "\t<tr><th scope=row>25-34 ans</th><td> 640</td><td> 719</td><td> 84 </td><td>230 </td><td>212 </td><td>380 </td></tr>\n",
       "\t<tr><th scope=row>35-49 ans</th><td> 888</td><td>1000</td><td>130 </td><td>429 </td><td>345 </td><td>466 </td></tr>\n",
       "\t<tr><th scope=row>50-64 ans</th><td> 617</td><td> 774</td><td> 84 </td><td>391 </td><td>262 </td><td>263 </td></tr>\n",
       "\t<tr><th scope=row>65 ans ou +</th><td> 491</td><td> 761</td><td> 70 </td><td>402 </td><td>251 </td><td>245 </td></tr>\n",
       "</tbody>\n",
       "</table>\n"
      ],
      "text/latex": [
       "\\begin{tabular}{r|llllll}\n",
       "  & Radio & Tel. & Quot.N & Quot.R & P.Mag & P.TV\\\\\n",
       "\\hline\n",
       "\tAgriculteur &   96 &  118 &   2  &  71  &  50  &  17 \\\\\n",
       "\tPetit patron &  122 &  136 &  11  &  76  &  49  &  41 \\\\\n",
       "\tProf. Cad. S. &  193 &  184 &  74  &  63  & 103  &  79 \\\\\n",
       "\tProf. Interm &  360 &  365 &  63  & 145  & 141  & 184 \\\\\n",
       "\tEmployé &  511 &  593 &  57  & 217  & 172  & 306 \\\\\n",
       "\tOuvrier qual &  385 &  457 &  42  & 174  & 104  & 220 \\\\\n",
       "\tOuvrier n-q &  156 &  185 &   8  &  69  &  42  &  85 \\\\\n",
       "\tInactif & 1474 & 1931 & 181  & 852  & 642  & 782 \\\\\n",
       "\tHomme & 1630 & 1900 & 285  & 854  & 621  & 776 \\\\\n",
       "\tFemme & 1667 & 2069 & 152  & 815  & 683  & 938 \\\\\n",
       "\tPrimaire &  908 & 1307 &  73  & 642  & 360  & 435 \\\\\n",
       "\tSecondaire &  869 & 1008 & 107  & 408  & 336  & 494 \\\\\n",
       "\tTechn.prof. &  901 & 1035 &  80  & 140  & 311  & 504 \\\\\n",
       "\tSuperieur &  619 &  612 & 177  & 209  & 298  & 281 \\\\\n",
       "\t15-24 ans &  660 &  713 &  69  & 216  & 234  & 360 \\\\\n",
       "\t25-34 ans &  640 &  719 &  84  & 230  & 212  & 380 \\\\\n",
       "\t35-49 ans &  888 & 1000 & 130  & 429  & 345  & 466 \\\\\n",
       "\t50-64 ans &  617 &  774 &  84  & 391  & 262  & 263 \\\\\n",
       "\t65 ans ou + &  491 &  761 &  70  & 402  & 251  & 245 \\\\\n",
       "\\end{tabular}\n"
      ],
      "text/markdown": [
       "\n",
       "| <!--/--> | Radio | Tel. | Quot.N | Quot.R | P.Mag | P.TV | \n",
       "|---|---|---|---|---|---|---|---|---|---|---|---|---|---|---|---|---|---|---|\n",
       "| Agriculteur |   96 |  118 |   2  |  71  |  50  |  17  | \n",
       "| Petit patron |  122 |  136 |  11  |  76  |  49  |  41  | \n",
       "| Prof. Cad. S. |  193 |  184 |  74  |  63  | 103  |  79  | \n",
       "| Prof. Interm |  360 |  365 |  63  | 145  | 141  | 184  | \n",
       "| Employé |  511 |  593 |  57  | 217  | 172  | 306  | \n",
       "| Ouvrier qual |  385 |  457 |  42  | 174  | 104  | 220  | \n",
       "| Ouvrier n-q |  156 |  185 |   8  |  69  |  42  |  85  | \n",
       "| Inactif | 1474 | 1931 | 181  | 852  | 642  | 782  | \n",
       "| Homme | 1630 | 1900 | 285  | 854  | 621  | 776  | \n",
       "| Femme | 1667 | 2069 | 152  | 815  | 683  | 938  | \n",
       "| Primaire |  908 | 1307 |  73  | 642  | 360  | 435  | \n",
       "| Secondaire |  869 | 1008 | 107  | 408  | 336  | 494  | \n",
       "| Techn.prof. |  901 | 1035 |  80  | 140  | 311  | 504  | \n",
       "| Superieur |  619 |  612 | 177  | 209  | 298  | 281  | \n",
       "| 15-24 ans |  660 |  713 |  69  | 216  | 234  | 360  | \n",
       "| 25-34 ans |  640 |  719 |  84  | 230  | 212  | 380  | \n",
       "| 35-49 ans |  888 | 1000 | 130  | 429  | 345  | 466  | \n",
       "| 50-64 ans |  617 |  774 |  84  | 391  | 262  | 263  | \n",
       "| 65 ans ou + |  491 |  761 |  70  | 402  | 251  | 245  | \n",
       "\n",
       "\n"
      ],
      "text/plain": [
       "              Radio Tel. Quot.N Quot.R P.Mag P.TV\n",
       "Agriculteur     96   118   2     71     50    17 \n",
       "Petit patron   122   136  11     76     49    41 \n",
       "Prof. Cad. S.  193   184  74     63    103    79 \n",
       "Prof. Interm   360   365  63    145    141   184 \n",
       "Employé        511   593  57    217    172   306 \n",
       "Ouvrier qual   385   457  42    174    104   220 \n",
       "Ouvrier n-q    156   185   8     69     42    85 \n",
       "Inactif       1474  1931 181    852    642   782 \n",
       "Homme         1630  1900 285    854    621   776 \n",
       "Femme         1667  2069 152    815    683   938 \n",
       "Primaire       908  1307  73    642    360   435 \n",
       "Secondaire     869  1008 107    408    336   494 \n",
       "Techn.prof.    901  1035  80    140    311   504 \n",
       "Superieur      619   612 177    209    298   281 \n",
       "15-24 ans      660   713  69    216    234   360 \n",
       "25-34 ans      640   719  84    230    212   380 \n",
       "35-49 ans      888  1000 130    429    345   466 \n",
       "50-64 ans      617   774  84    391    262   263 \n",
       "65 ans ou +    491   761  70    402    251   245 "
      ]
     },
     "metadata": {},
     "output_type": "display_data"
    }
   ],
   "source": [
    "bdtmp_multim"
   ]
  },
  {
   "cell_type": "markdown",
   "metadata": {},
   "source": [
    "Le tableau ci-dessous représente les valeurs numériques dans le tableau de contingence sous forme de cercles.\n",
    "Ci le cercle est grand, cela veut dire qu'on a une grande valeur, sinon le cas opposé :"
   ]
  },
  {
   "cell_type": "code",
   "execution_count": 9,
   "metadata": {},
   "outputs": [
    {
     "data": {
      "image/png": "[encoded data removed]",
      "text/plain": [
       "Plot with title \"bdtmp_multim\""
      ]
     },
     "metadata": {},
     "output_type": "display_data"
    }
   ],
   "source": [
    "t_bdtmp_multim = as.table(as.matrix(bdtmp_multim))\n",
    "balloonplot(t(t_bdtmp_multim) ,main =\"bdtmp_multim\", xlab =\"\", ylab=\"\",\n",
    "            label = FALSE, show.margins = FALSE)"
   ]
  },
  {
   "cell_type": "markdown",
   "metadata": {},
   "source": [
    "## 1- Test du χ² :"
   ]
  },
  {
   "cell_type": "markdown",
   "metadata": {},
   "source": [
    "Ce test permet de vérifier si un échantillon d'une variable aléatoire Y donne des observations comparables à celles d'une loi de probabilité P définie a priori dont on pense, pour des raisons théoriques ou pratiques, qu'elle devrait être la loi de Y. L’hypothèse nulle (H0) d'un test du χ2 d'adéquation (dénommé aussi test du χ2 de conformité ou test du χ2 d'ajustement) est donc la suivante : la variable aléatoire Y suit la loi de probabilité P.\n",
    "\n",
    "En termes de valeur-p, l'hypothèse nulle (l'observation est suffisamment proche de la théorie) est généralement rejetée lorsque valeur-p est inférieure ou égale à *0,05\n",
    "\n",
    "\n",
    "Dans notre analyse, on va se focaliser sur le croisement entre les 8 professions et les types de média, et les autres lignes seront supplémentaires (pour l'aide à l'analyse). Du coup on va appliquer le test du χ² sur ce dernier :"
   ]
  },
  {
   "cell_type": "code",
   "execution_count": 15,
   "metadata": {},
   "outputs": [
    {
     "data": {
      "text/html": [
       "<table>\n",
       "<thead><tr><th></th><th scope=col>Radio</th><th scope=col>Tel.</th><th scope=col>Quot.N</th><th scope=col>Quot.R</th><th scope=col>P.Mag</th><th scope=col>P.TV</th></tr></thead>\n",
       "<tbody>\n",
       "\t<tr><th scope=row>Agriculteur</th><td>  96</td><td> 118</td><td>  2 </td><td> 71 </td><td> 50 </td><td> 17 </td></tr>\n",
       "\t<tr><th scope=row>Petit patron</th><td> 122</td><td> 136</td><td> 11 </td><td> 76 </td><td> 49 </td><td> 41 </td></tr>\n",
       "\t<tr><th scope=row>Prof. Cad. S.</th><td> 193</td><td> 184</td><td> 74 </td><td> 63 </td><td>103 </td><td> 79 </td></tr>\n",
       "\t<tr><th scope=row>Prof. Interm</th><td> 360</td><td> 365</td><td> 63 </td><td>145 </td><td>141 </td><td>184 </td></tr>\n",
       "\t<tr><th scope=row>Employé</th><td> 511</td><td> 593</td><td> 57 </td><td>217 </td><td>172 </td><td>306 </td></tr>\n",
       "\t<tr><th scope=row>Ouvrier qual</th><td> 385</td><td> 457</td><td> 42 </td><td>174 </td><td>104 </td><td>220 </td></tr>\n",
       "\t<tr><th scope=row>Ouvrier n-q</th><td> 156</td><td> 185</td><td>  8 </td><td> 69 </td><td> 42 </td><td> 85 </td></tr>\n",
       "\t<tr><th scope=row>Inactif</th><td>1474</td><td>1931</td><td>181 </td><td>852 </td><td>642 </td><td>782 </td></tr>\n",
       "</tbody>\n",
       "</table>\n"
      ],
      "text/latex": [
       "\\begin{tabular}{r|llllll}\n",
       "  & Radio & Tel. & Quot.N & Quot.R & P.Mag & P.TV\\\\\n",
       "\\hline\n",
       "\tAgriculteur &   96 &  118 &   2  &  71  &  50  &  17 \\\\\n",
       "\tPetit patron &  122 &  136 &  11  &  76  &  49  &  41 \\\\\n",
       "\tProf. Cad. S. &  193 &  184 &  74  &  63  & 103  &  79 \\\\\n",
       "\tProf. Interm &  360 &  365 &  63  & 145  & 141  & 184 \\\\\n",
       "\tEmployé &  511 &  593 &  57  & 217  & 172  & 306 \\\\\n",
       "\tOuvrier qual &  385 &  457 &  42  & 174  & 104  & 220 \\\\\n",
       "\tOuvrier n-q &  156 &  185 &   8  &  69  &  42  &  85 \\\\\n",
       "\tInactif & 1474 & 1931 & 181  & 852  & 642  & 782 \\\\\n",
       "\\end{tabular}\n"
      ],
      "text/markdown": [
       "\n",
       "| <!--/--> | Radio | Tel. | Quot.N | Quot.R | P.Mag | P.TV | \n",
       "|---|---|---|---|---|---|---|---|\n",
       "| Agriculteur |   96 |  118 |   2  |  71  |  50  |  17  | \n",
       "| Petit patron |  122 |  136 |  11  |  76  |  49  |  41  | \n",
       "| Prof. Cad. S. |  193 |  184 |  74  |  63  | 103  |  79  | \n",
       "| Prof. Interm |  360 |  365 |  63  | 145  | 141  | 184  | \n",
       "| Employé |  511 |  593 |  57  | 217  | 172  | 306  | \n",
       "| Ouvrier qual |  385 |  457 |  42  | 174  | 104  | 220  | \n",
       "| Ouvrier n-q |  156 |  185 |   8  |  69  |  42  |  85  | \n",
       "| Inactif | 1474 | 1931 | 181  | 852  | 642  | 782  | \n",
       "\n",
       "\n"
      ],
      "text/plain": [
       "              Radio Tel. Quot.N Quot.R P.Mag P.TV\n",
       "Agriculteur     96   118   2     71     50    17 \n",
       "Petit patron   122   136  11     76     49    41 \n",
       "Prof. Cad. S.  193   184  74     63    103    79 \n",
       "Prof. Interm   360   365  63    145    141   184 \n",
       "Employé        511   593  57    217    172   306 \n",
       "Ouvrier qual   385   457  42    174    104   220 \n",
       "Ouvrier n-q    156   185   8     69     42    85 \n",
       "Inactif       1474  1931 181    852    642   782 "
      ]
     },
     "metadata": {},
     "output_type": "display_data"
    }
   ],
   "source": [
    "df <- bdtmp_multim[1:8,]\n",
    "df"
   ]
  },
  {
   "cell_type": "code",
   "execution_count": 17,
   "metadata": {},
   "outputs": [],
   "source": [
    "test <- chisq.test(bdtmp_multim[1:8,])  "
   ]
  },
  {
   "cell_type": "code",
   "execution_count": 18,
   "metadata": {},
   "outputs": [
    {
     "data": {
      "text/html": [
       "<table>\n",
       "<thead><tr><th></th><th scope=col>Radio</th><th scope=col>Tel.</th><th scope=col>Quot.N</th><th scope=col>Quot.R</th><th scope=col>P.Mag</th><th scope=col>P.TV</th></tr></thead>\n",
       "<tbody>\n",
       "\t<tr><th scope=row>Agriculteur</th><td>  94.21521</td><td> 113.4183 </td><td> 12.51631 </td><td> 47.63626 </td><td> 37.23458 </td><td> 48.97933 </td></tr>\n",
       "\t<tr><th scope=row>Petit patron</th><td> 115.77293</td><td> 139.3700 </td><td> 15.38021 </td><td> 58.53608 </td><td> 45.75436 </td><td> 60.18647 </td></tr>\n",
       "\t<tr><th scope=row>Prof. Cad. S.</th><td> 185.23668</td><td> 222.9919 </td><td> 24.60833 </td><td> 93.65773 </td><td> 73.20697 </td><td> 96.29835 </td></tr>\n",
       "\t<tr><th scope=row>Prof. Interm</th><td> 334.80998</td><td> 403.0515 </td><td> 44.47885 </td><td>169.28366 </td><td>132.31950 </td><td>174.05651 </td></tr>\n",
       "\t<tr><th scope=row>Employé</th><td> 493.96448</td><td> 594.6451 </td><td> 65.62222 </td><td>249.75396 </td><td>195.21860 </td><td>256.79561 </td></tr>\n",
       "\t<tr><th scope=row>Ouvrier qual</th><td> 367.81191</td><td> 442.7799 </td><td> 48.86309 </td><td>185.96981 </td><td>145.36212 </td><td>191.21311 </td></tr>\n",
       "\t<tr><th scope=row>Ouvrier n-q</th><td> 145.04884</td><td> 174.6129 </td><td> 19.26945 </td><td> 73.33831 </td><td> 57.32443 </td><td> 75.40604 </td></tr>\n",
       "\t<tr><th scope=row>Inactif</th><td>1560.13997</td><td>1878.1303 </td><td>207.26154 </td><td>788.82418 </td><td>616.57943 </td><td>811.06458 </td></tr>\n",
       "</tbody>\n",
       "</table>\n"
      ],
      "text/latex": [
       "\\begin{tabular}{r|llllll}\n",
       "  & Radio & Tel. & Quot.N & Quot.R & P.Mag & P.TV\\\\\n",
       "\\hline\n",
       "\tAgriculteur &   94.21521 &  113.4183  &  12.51631  &  47.63626  &  37.23458  &  48.97933 \\\\\n",
       "\tPetit patron &  115.77293 &  139.3700  &  15.38021  &  58.53608  &  45.75436  &  60.18647 \\\\\n",
       "\tProf. Cad. S. &  185.23668 &  222.9919  &  24.60833  &  93.65773  &  73.20697  &  96.29835 \\\\\n",
       "\tProf. Interm &  334.80998 &  403.0515  &  44.47885  & 169.28366  & 132.31950  & 174.05651 \\\\\n",
       "\tEmployé &  493.96448 &  594.6451  &  65.62222  & 249.75396  & 195.21860  & 256.79561 \\\\\n",
       "\tOuvrier qual &  367.81191 &  442.7799  &  48.86309  & 185.96981  & 145.36212  & 191.21311 \\\\\n",
       "\tOuvrier n-q &  145.04884 &  174.6129  &  19.26945  &  73.33831  &  57.32443  &  75.40604 \\\\\n",
       "\tInactif & 1560.13997 & 1878.1303  & 207.26154  & 788.82418  & 616.57943  & 811.06458 \\\\\n",
       "\\end{tabular}\n"
      ],
      "text/markdown": [
       "\n",
       "| <!--/--> | Radio | Tel. | Quot.N | Quot.R | P.Mag | P.TV | \n",
       "|---|---|---|---|---|---|---|---|\n",
       "| Agriculteur |   94.21521 |  113.4183  |  12.51631  |  47.63626  |  37.23458  |  48.97933  | \n",
       "| Petit patron |  115.77293 |  139.3700  |  15.38021  |  58.53608  |  45.75436  |  60.18647  | \n",
       "| Prof. Cad. S. |  185.23668 |  222.9919  |  24.60833  |  93.65773  |  73.20697  |  96.29835  | \n",
       "| Prof. Interm |  334.80998 |  403.0515  |  44.47885  | 169.28366  | 132.31950  | 174.05651  | \n",
       "| Employé |  493.96448 |  594.6451  |  65.62222  | 249.75396  | 195.21860  | 256.79561  | \n",
       "| Ouvrier qual |  367.81191 |  442.7799  |  48.86309  | 185.96981  | 145.36212  | 191.21311  | \n",
       "| Ouvrier n-q |  145.04884 |  174.6129  |  19.26945  |  73.33831  |  57.32443  |  75.40604  | \n",
       "| Inactif | 1560.13997 | 1878.1303  | 207.26154  | 788.82418  | 616.57943  | 811.06458  | \n",
       "\n",
       "\n"
      ],
      "text/plain": [
       "              Radio      Tel.      Quot.N    Quot.R    P.Mag     P.TV     \n",
       "Agriculteur     94.21521  113.4183  12.51631  47.63626  37.23458  48.97933\n",
       "Petit patron   115.77293  139.3700  15.38021  58.53608  45.75436  60.18647\n",
       "Prof. Cad. S.  185.23668  222.9919  24.60833  93.65773  73.20697  96.29835\n",
       "Prof. Interm   334.80998  403.0515  44.47885 169.28366 132.31950 174.05651\n",
       "Employé        493.96448  594.6451  65.62222 249.75396 195.21860 256.79561\n",
       "Ouvrier qual   367.81191  442.7799  48.86309 185.96981 145.36212 191.21311\n",
       "Ouvrier n-q    145.04884  174.6129  19.26945  73.33831  57.32443  75.40604\n",
       "Inactif       1560.13997 1878.1303 207.26154 788.82418 616.57943 811.06458"
      ]
     },
     "metadata": {},
     "output_type": "display_data"
    }
   ],
   "source": [
    "test$expected #: la matrice attendue sous l'hypothèse nulle d'absence de biais."
   ]
  },
  {
   "cell_type": "code",
   "execution_count": 20,
   "metadata": {},
   "outputs": [
    {
     "data": {
      "text/plain": [
       "\n",
       "\tPearson's Chi-squared test\n",
       "\n",
       "data:  bdtmp_multim[1:8, ]\n",
       "X-squared = 276, df = 35, p-value < 2.2e-16\n"
      ]
     },
     "metadata": {},
     "output_type": "display_data"
    }
   ],
   "source": [
    "test"
   ]
  },
  {
   "cell_type": "markdown",
   "metadata": {},
   "source": [
    "Comme vous le voyez le test du χ² nous donne une **valeur-p inférieure à 2.2e-16** ce qui veut dire que l'*hypothèse nulle est  rejetée*"
   ]
  },
  {
   "cell_type": "markdown",
   "metadata": {},
   "source": [
    "On conclue alors qu'**il y a une dépendance forte entre les variables lignes et colonnes**"
   ]
  },
  {
   "cell_type": "markdown",
   "metadata": {},
   "source": [
    "## 2- Analyse factorielle des correspondances (AFC) :"
   ]
  },
  {
   "cell_type": "code",
   "execution_count": 21,
   "metadata": {
    "collapsed": true
   },
   "outputs": [],
   "source": [
    "#Methode AFC FactoMineR\n",
    "res.ca <- CA(bdtmp_multim, row.sup = 9:nrow(bdtmp_multim),graph=FALSE)\n",
    "\n",
    "\n",
    "#Methode AFC ADE4\n",
    "res.ca1 <- dudi.coa(bdtmp_multim[1:8,],scannf= FALSE, nf = 2) # hclust eclust"
   ]
  },
  {
   "cell_type": "markdown",
   "metadata": {},
   "source": [
    "#### 2.1 Valeurs propres / Variances"
   ]
  },
  {
   "cell_type": "markdown",
   "metadata": {},
   "source": [
    "L’examination des valeurs propres permet de déterminer le nombre d’axes principaux à considérer. Les valeurs propres correspondent à la quantité d’informations retenue par chaque axe. Elles sont grandes pour le premier axe et petites pour l’axe suivant."
   ]
  },
  {
   "cell_type": "code",
   "execution_count": 22,
   "metadata": {},
   "outputs": [
    {
     "data": {
      "text/html": [
       "<table>\n",
       "<thead><tr><th></th><th scope=col>eigenvalue</th><th scope=col>variance.percent</th><th scope=col>cumulative.variance.percent</th></tr></thead>\n",
       "<tbody>\n",
       "\t<tr><th scope=row>Dim.1</th><td>1.385729e-02</td><td>62.1981806  </td><td> 62.19818   </td></tr>\n",
       "\t<tr><th scope=row>Dim.2</th><td>7.210685e-03</td><td>32.3650288  </td><td> 94.56321   </td></tr>\n",
       "\t<tr><th scope=row>Dim.3</th><td>8.247314e-04</td><td> 3.7017919  </td><td> 98.26500   </td></tr>\n",
       "\t<tr><th scope=row>Dim.4</th><td>3.038516e-04</td><td> 1.3638326  </td><td> 99.62883   </td></tr>\n",
       "\t<tr><th scope=row>Dim.5</th><td>8.269302e-05</td><td> 0.3711661  </td><td>100.00000   </td></tr>\n",
       "</tbody>\n",
       "</table>\n"
      ],
      "text/latex": [
       "\\begin{tabular}{r|lll}\n",
       "  & eigenvalue & variance.percent & cumulative.variance.percent\\\\\n",
       "\\hline\n",
       "\tDim.1 & 1.385729e-02 & 62.1981806   &  62.19818   \\\\\n",
       "\tDim.2 & 7.210685e-03 & 32.3650288   &  94.56321   \\\\\n",
       "\tDim.3 & 8.247314e-04 &  3.7017919   &  98.26500   \\\\\n",
       "\tDim.4 & 3.038516e-04 &  1.3638326   &  99.62883   \\\\\n",
       "\tDim.5 & 8.269302e-05 &  0.3711661   & 100.00000   \\\\\n",
       "\\end{tabular}\n"
      ],
      "text/markdown": [
       "\n",
       "| <!--/--> | eigenvalue | variance.percent | cumulative.variance.percent | \n",
       "|---|---|---|---|---|\n",
       "| Dim.1 | 1.385729e-02 | 62.1981806   |  62.19818    | \n",
       "| Dim.2 | 7.210685e-03 | 32.3650288   |  94.56321    | \n",
       "| Dim.3 | 8.247314e-04 |  3.7017919   |  98.26500    | \n",
       "| Dim.4 | 3.038516e-04 |  1.3638326   |  99.62883    | \n",
       "| Dim.5 | 8.269302e-05 |  0.3711661   | 100.00000    | \n",
       "\n",
       "\n"
      ],
      "text/plain": [
       "      eigenvalue   variance.percent cumulative.variance.percent\n",
       "Dim.1 1.385729e-02 62.1981806        62.19818                  \n",
       "Dim.2 7.210685e-03 32.3650288        94.56321                  \n",
       "Dim.3 8.247314e-04  3.7017919        98.26500                  \n",
       "Dim.4 3.038516e-04  1.3638326        99.62883                  \n",
       "Dim.5 8.269302e-05  0.3711661       100.00000                  "
      ]
     },
     "metadata": {},
     "output_type": "display_data"
    }
   ],
   "source": [
    "eig.val <- get_eigenvalue (res.ca)\n",
    "eig.val"
   ]
  },
  {
   "cell_type": "markdown",
   "metadata": {},
   "source": [
    "Le graphique des valeurs propres:"
   ]
  },
  {
   "cell_type": "code",
   "execution_count": 24,
   "metadata": {},
   "outputs": [
    {
     "data": {},
     "metadata": {},
     "output_type": "display_data"
    },
    {
     "data": {
      "image/png": "[encoded data removed]",
      "text/plain": [
       "plot without title"
      ]
     },
     "metadata": {},
     "output_type": "display_data"
    }
   ],
   "source": [
    "fviz_screeplot(res.ca, addlabels = TRUE, ylim = c(0, 70)) # Inerties"
   ]
  },
  {
   "cell_type": "markdown",
   "metadata": {},
   "source": [
    "Deux facteurs sont dominants et représentent près de 95% de l’inertie totale. "
   ]
  },
  {
   "cell_type": "code",
   "execution_count": null,
   "metadata": {
    "collapsed": true
   },
   "outputs": [],
   "source": []
  }
 ],
 "metadata": {
  "kernelspec": {
   "display_name": "R",
   "language": "R",
   "name": "ir"
  },
  "language_info": {
   "codemirror_mode": "r",
   "file_extension": ".r",
   "mimetype": "text/x-r-source",
   "name": "R",
   "pygments_lexer": "r",
   "version": "3.4.1"
  }
 },
 "nbformat": 4,
 "nbformat_minor": 2
}
